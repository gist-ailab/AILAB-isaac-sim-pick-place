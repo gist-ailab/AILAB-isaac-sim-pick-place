{
 "cells": [
  {
   "cell_type": "markdown",
   "metadata": {},
   "source": [
    "## 2. 기본 인공신경망 구조\n",
    "### 2-1. Perceptron\n"
   ]
  },
  {
   "cell_type": "code",
   "execution_count": 19,
   "metadata": {},
   "outputs": [],
   "source": [
    "import torch\n",
    "import torch.nn as nn\n",
    "\n",
    "device = 'cuda' if torch.cuda.is_available() else 'cpu'\n",
    "torch.manual_seed(777)\n",
    "if device == 'cuda':\n",
    "    torch.cuda.manual_seed_all(777)\n"
   ]
  },
  {
   "cell_type": "code",
   "execution_count": 35,
   "metadata": {},
   "outputs": [],
   "source": [
    "X = [x1, x2] = torch.rand(2)\n",
    "Y = torch.rand(1)\n",
    "W = [w1, w2] = torch.rand(2, requires_grad=True)\n",
    "b = torch.rand(1, requires_grad=True)\n"
   ]
  },
  {
   "cell_type": "markdown",
   "metadata": {},
   "source": [
    "### 논리회로\n",
    "code : PyTorch로 시작하는 딥러닝 입문(https://wikidocs.net/60680)"
   ]
  },
  {
   "cell_type": "code",
   "execution_count": 6,
   "metadata": {},
   "outputs": [],
   "source": [
    "def AND_gate(x1, x2):\n",
    "    w1=0.5\n",
    "    w2=0.5\n",
    "    b=-0.7\n",
    "    result = x1*w1 + x2*w2 + b\n",
    "    if result <= 0:\n",
    "        return 0\n",
    "    else:\n",
    "        return 1"
   ]
  },
  {
   "cell_type": "code",
   "execution_count": 8,
   "metadata": {},
   "outputs": [
    {
     "data": {
      "text/plain": [
       "(0, 0, 0, 1)"
      ]
     },
     "execution_count": 8,
     "metadata": {},
     "output_type": "execute_result"
    }
   ],
   "source": [
    "AND_gate(0, 0), AND_gate(0, 1), AND_gate(1, 0), AND_gate(1, 1)"
   ]
  },
  {
   "cell_type": "code",
   "execution_count": 9,
   "metadata": {},
   "outputs": [],
   "source": [
    "def OR_gate(x1, x2):\n",
    "    w1=0.6\n",
    "    w2=0.6\n",
    "    b=-0.5\n",
    "    result = x1*w1 + x2*w2 + b\n",
    "    if result <= 0:\n",
    "        return 0\n",
    "    else:\n",
    "        return 1"
   ]
  },
  {
   "cell_type": "code",
   "execution_count": 11,
   "metadata": {},
   "outputs": [
    {
     "data": {
      "text/plain": [
       "(0, 1, 1, 1)"
      ]
     },
     "execution_count": 11,
     "metadata": {},
     "output_type": "execute_result"
    }
   ],
   "source": [
    "OR_gate(0, 0), OR_gate(0, 1), OR_gate(1, 0), OR_gate(1, 1)"
   ]
  },
  {
   "cell_type": "code",
   "execution_count": 17,
   "metadata": {},
   "outputs": [],
   "source": [
    "def Wrong_XOR_gate(x1, x2):\n",
    "    w1=0.4\n",
    "    w2=0.67\n",
    "    b=-0.5\n",
    "    result = x1*w1 + x2*w2 + b\n",
    "    if result <= 0:\n",
    "        return 0\n",
    "    else:\n",
    "        return 1"
   ]
  },
  {
   "cell_type": "code",
   "execution_count": 18,
   "metadata": {},
   "outputs": [
    {
     "data": {
      "text/plain": [
       "(0, 1, 0, 1)"
      ]
     },
     "execution_count": 18,
     "metadata": {},
     "output_type": "execute_result"
    }
   ],
   "source": [
    "Wrong_XOR_gate(0, 0), Wrong_XOR_gate(0, 1), Wrong_XOR_gate(1, 0), Wrong_XOR_gate(1, 1)"
   ]
  },
  {
   "cell_type": "markdown",
   "metadata": {},
   "source": [
    "XOR 게이트가 출력해야 하는 정답값은 0, 1, 1, 0 이다.  \n",
    "위의 Wrong_XOR_gate 클래스의 w1, w2, b 값을 아무리 수정하여도 XOR_gate에 맞는 결과를 출력할 수 없음을 알 수 있다.  \n",
    "즉, XOR 게이트는 Perceptron을 통해 구현할 수 없다.  "
   ]
  },
  {
   "cell_type": "markdown",
   "metadata": {},
   "source": [
    "### 2-2. Multi Layer Perceptron"
   ]
  },
  {
   "cell_type": "code",
   "execution_count": null,
   "metadata": {},
   "outputs": [],
   "source": [
    "model = nn.Sequential(\n",
    "    nn.Linear(764, 100),\n",
    "    nn.ReLU(),\n",
    "    nn.Linear(100, 50),\n",
    "    nn.ReLU(),\n",
    "    nn.Linear(50, 1),\n",
    "    nn.Sigmoid()\n",
    ")"
   ]
  },
  {
   "cell_type": "markdown",
   "metadata": {},
   "source": [
    "### 2-3. Fully Connected Layer"
   ]
  },
  {
   "cell_type": "code",
   "execution_count": 20,
   "metadata": {},
   "outputs": [],
   "source": [
    "fully_connected_layer = nn.Linear(2,1)"
   ]
  },
  {
   "cell_type": "code",
   "execution_count": 21,
   "metadata": {},
   "outputs": [
    {
     "data": {
      "text/plain": [
       "Linear(in_features=2, out_features=1, bias=True)"
      ]
     },
     "execution_count": 21,
     "metadata": {},
     "output_type": "execute_result"
    }
   ],
   "source": [
    "fully_connected_layer"
   ]
  },
  {
   "cell_type": "code",
   "execution_count": 24,
   "metadata": {},
   "outputs": [
    {
     "data": {
      "text/plain": [
       "tensor([[-0.3760]], grad_fn=<AddmmBackward0>)"
      ]
     },
     "execution_count": 24,
     "metadata": {},
     "output_type": "execute_result"
    }
   ],
   "source": [
    "x = torch.rand(1,2)\n",
    "fully_connected_layer(x)\n"
   ]
  },
  {
   "cell_type": "code",
   "execution_count": 25,
   "metadata": {},
   "outputs": [
    {
     "data": {
      "text/plain": [
       "tensor([[0.3859, 0.8813]])"
      ]
     },
     "execution_count": 25,
     "metadata": {},
     "output_type": "execute_result"
    }
   ],
   "source": [
    "x"
   ]
  },
  {
   "cell_type": "code",
   "execution_count": 30,
   "metadata": {},
   "outputs": [
    {
     "data": {
      "text/plain": [
       "Parameter containing:\n",
       "tensor([[-0.5913, -0.0125]], requires_grad=True)"
      ]
     },
     "execution_count": 30,
     "metadata": {},
     "output_type": "execute_result"
    }
   ],
   "source": [
    "fully_connected_layer.weight"
   ]
  },
  {
   "cell_type": "code",
   "execution_count": 31,
   "metadata": {},
   "outputs": [
    {
     "data": {
      "text/plain": [
       "Parameter containing:\n",
       "tensor([-0.1368], requires_grad=True)"
      ]
     },
     "execution_count": 31,
     "metadata": {},
     "output_type": "execute_result"
    }
   ],
   "source": [
    "fully_connected_layer.bias\n"
   ]
  },
  {
   "cell_type": "markdown",
   "metadata": {},
   "source": [
    "### 2-5. Pooling Layer"
   ]
  },
  {
   "cell_type": "code",
   "execution_count": 49,
   "metadata": {},
   "outputs": [],
   "source": [
    "# pool of square window of size=3, stride=2\n",
    "m = nn.MaxPool2d(3, stride=2)\n",
    "input = torch.randn(20, 16, 50, 32)\n",
    "output = m(input)"
   ]
  },
  {
   "cell_type": "code",
   "execution_count": 52,
   "metadata": {},
   "outputs": [
    {
     "name": "stdout",
     "output_type": "stream",
     "text": [
      "torch.Size([20, 16, 50, 32]) torch.Size([20, 16, 24, 15])\n"
     ]
    }
   ],
   "source": [
    "print(input.shape, output.shape)"
   ]
  },
  {
   "cell_type": "markdown",
   "metadata": {},
   "source": [
    "code : https://www.tutorialspoint.com/how-to-apply-a-2d-max-pooling-in-pytorch"
   ]
  },
  {
   "cell_type": "code",
   "execution_count": 55,
   "metadata": {},
   "outputs": [
    {
     "name": "stdout",
     "output_type": "stream",
     "text": [
      "Original size of Image: torch.Size([3, 512, 512])\n",
      "Size after MaxPool: torch.Size([3, 509, 509])\n"
     ]
    }
   ],
   "source": [
    "# Python 3 program to perform 2D Max Pooling on image\n",
    "# Import the required libraries\n",
    "import torch\n",
    "import torchvision\n",
    "from PIL import Image\n",
    "import torchvision.transforms as T\n",
    "import torch.nn.functional as F\n",
    "\n",
    "# read the input image\n",
    "img = Image.open('Lenna.png')\n",
    "\n",
    "# convert the image to torch tensor\n",
    "img = T.ToTensor()(img)\n",
    "print(\"Original size of Image:\", img.size()) #Size([3, 466, 700])\n",
    "\n",
    "# unsqueeze to make 4D\n",
    "img = img.unsqueeze(0)\n",
    "\n",
    "# define max pool with square window of size=4, stride=1\n",
    "pool = torch.nn.MaxPool2d(4, 1)\n",
    "img = pool(img)\n",
    "img = img.squeeze(0)\n",
    "print(\"Size after MaxPool:\",img.size())\n",
    "img = T.ToPILImage()(img)\n",
    "img.show()"
   ]
  },
  {
   "cell_type": "code",
   "execution_count": 57,
   "metadata": {},
   "outputs": [
    {
     "name": "stdout",
     "output_type": "stream",
     "text": [
      "Original size of Image: torch.Size([3, 512, 512])\n",
      "Size after AvgPool: torch.Size([3, 509, 509])\n"
     ]
    }
   ],
   "source": [
    "# Python 3 program to perform 2D Max Pooling on image\n",
    "# Import the required libraries\n",
    "import torch\n",
    "import torchvision\n",
    "from PIL import Image\n",
    "import torchvision.transforms as T\n",
    "import torch.nn.functional as F\n",
    "\n",
    "# read the input image\n",
    "img = Image.open('Lenna.png')\n",
    "\n",
    "# convert the image to torch tensor\n",
    "img = T.ToTensor()(img)\n",
    "print(\"Original size of Image:\", img.size()) #Size([3, 466, 700])\n",
    "\n",
    "# unsqueeze to make 4D\n",
    "img = img.unsqueeze(0)\n",
    "\n",
    "# define max pool with square window of size=4, stride=1\n",
    "pool = torch.nn.AvgPool2d(4, 1)\n",
    "img = pool(img)\n",
    "img = img.squeeze(0)\n",
    "print(\"Size after AvgPool:\",img.size())\n",
    "img = T.ToPILImage()(img)\n",
    "img.show()"
   ]
  },
  {
   "cell_type": "markdown",
   "metadata": {},
   "source": [
    "## 3. 모델 학습 요소"
   ]
  },
  {
   "cell_type": "markdown",
   "metadata": {},
   "source": [
    "### 3.1 손실 함수 (Loss function)"
   ]
  },
  {
   "cell_type": "markdown",
   "metadata": {},
   "source": [
    "code : https://neptune.ai/blog/pytorch-loss-functions"
   ]
  },
  {
   "cell_type": "code",
   "execution_count": 61,
   "metadata": {},
   "outputs": [
    {
     "name": "stdout",
     "output_type": "stream",
     "text": [
      "input:  tensor([[-0.1457, -0.1122,  2.3264,  0.6388, -0.6341],\n",
      "        [-2.1247, -1.5294,  0.3026,  1.7853,  0.2048],\n",
      "        [-0.0038,  0.0500,  0.3233,  0.2413,  0.2530]], requires_grad=True)\n",
      "target:  tensor([[ 0.8480, -1.3358, -0.5295,  1.5153, -0.2858],\n",
      "        [ 1.2105,  0.5459, -0.5948,  0.6668,  0.9814],\n",
      "        [ 0.6543,  0.8082,  2.0178,  0.3404,  1.0369]])\n",
      "output:  tensor(2.2749, grad_fn=<MseLossBackward0>)\n"
     ]
    }
   ],
   "source": [
    "import torch\n",
    "import torch.nn as nn\n",
    "\n",
    "input = torch.randn(3, 5, requires_grad=True)\n",
    "target = torch.randn(3, 5)\n",
    "mse_loss = nn.MSELoss()\n",
    "output = mse_loss(input, target)\n",
    "output.backward()\n",
    "\n",
    "print('input: ', input)\n",
    "print('target: ', target)\n",
    "print('output: ', output)"
   ]
  },
  {
   "cell_type": "code",
   "execution_count": 62,
   "metadata": {},
   "outputs": [
    {
     "name": "stdout",
     "output_type": "stream",
     "text": [
      "input:  tensor([[ 0.2633, -0.5075,  1.3920, -0.9615, -0.3498],\n",
      "        [ 0.9773,  0.4962,  1.1331,  0.3257, -0.8880],\n",
      "        [-1.2524, -0.7455,  0.0787, -1.6435, -1.2173]], requires_grad=True)\n",
      "target:  tensor([1, 0, 0])\n",
      "output:  tensor(1.9321, grad_fn=<NllLossBackward0>)\n"
     ]
    }
   ],
   "source": [
    "import torch\n",
    "import torch.nn as nn\n",
    "\n",
    "input = torch.randn(3, 5, requires_grad=True)\n",
    "target = torch.empty(3, dtype=torch.long).random_(5)\n",
    "\n",
    "cross_entropy_loss = nn.CrossEntropyLoss()\n",
    "output = cross_entropy_loss(input, target)\n",
    "output.backward()\n",
    "\n",
    "print('input: ', input)\n",
    "print('target: ', target)\n",
    "print('output: ', output)"
   ]
  },
  {
   "cell_type": "markdown",
   "metadata": {},
   "source": [
    "### 3.3 활성화 함수 (Activation function)\n",
    "code : https://machinelearningmastery.com/activation-functions-in-pytorch/"
   ]
  },
  {
   "cell_type": "code",
   "execution_count": 58,
   "metadata": {},
   "outputs": [
    {
     "data": {
      "image/png": "[encoded data removed]",
      "text/plain": [
       "<Figure size 640x480 with 1 Axes>"
      ]
     },
     "metadata": {},
     "output_type": "display_data"
    }
   ],
   "source": [
    "# importing the libraries\n",
    "import torch\n",
    "import matplotlib.pyplot as plt\n",
    " \n",
    "# create a PyTorch tensor\n",
    "x = torch.linspace(-10, 10, 100)\n",
    " \n",
    "# apply the logistic activation function to the tensor\n",
    "y = torch.sigmoid(x)\n",
    " \n",
    "# plot the results with a custom color\n",
    "plt.plot(x.numpy(), y.numpy(), color='purple')\n",
    "plt.xlabel('Input')\n",
    "plt.ylabel('Output')\n",
    "plt.title('Logistic Activation Function')\n",
    "plt.show()"
   ]
  },
  {
   "cell_type": "code",
   "execution_count": 59,
   "metadata": {},
   "outputs": [
    {
     "data": {
      "image/png": "[encoded data removed]",
      "text/plain": [
       "<Figure size 640x480 with 1 Axes>"
      ]
     },
     "metadata": {},
     "output_type": "display_data"
    }
   ],
   "source": [
    "# apply the ReLU activation function to the tensor\n",
    "y = torch.relu(x)\n",
    " \n",
    "# plot the results with a custom color\n",
    "plt.plot(x.numpy(), y.numpy(), color='green')\n",
    "plt.xlabel('Input')\n",
    "plt.ylabel('Output')\n",
    "plt.title('ReLU Activation Function')\n",
    "plt.show()"
   ]
  },
  {
   "cell_type": "markdown",
   "metadata": {},
   "source": [
    "### 3.4 데이터셋 분할\n",
    "code : https://pozalabs.github.io/Dataset_Splitting/"
   ]
  },
  {
   "cell_type": "code",
   "execution_count": 38,
   "metadata": {},
   "outputs": [],
   "source": [
    "import numpy as np\n",
    "from sklearn.model_selection import train_test_split"
   ]
  },
  {
   "cell_type": "code",
   "execution_count": 39,
   "metadata": {},
   "outputs": [],
   "source": [
    "x_data = np.array([\n",
    "    [2, 1, 4, 2],\n",
    "    [3, 2, 15, 1],\n",
    "    [3, 4, 7, 11],\n",
    "    [5, 15, 8, 5],\n",
    "    [7, 5, 2, 9],\n",
    "    [2, 5, 1, 8],\n",
    "    [8, 9, 3, 6],\n",
    "    [9, 10, 6, 8],\n",
    "    [6, 12, 13, 1],\n",
    "    [9, 2, 18, 32],\n",
    "    [6, 10, 12, 2],\n",
    "    [2, 4, 7, 15],\n",
    "    [15, 6, 2, 7],\n",
    "    [16, 2, 6, 1],\n",
    "    [10, 8, 2, 6],\n",
    "    [13, 12, 11, 2],\n",
    "    [5, 9, 1, 12],\n",
    "    [16, 18, 3, 15],\n",
    "    [12, 1, 8, 3],\n",
    "    [6, 2, 9, 16]\n",
    "])\n",
    "y_data = np.array([3, 5, 7, 10, 12, 7, 13, 13, 12, 13, 12, 6, 13, 6, 6, 2, 17, 12, 2, 9])"
   ]
  },
  {
   "cell_type": "code",
   "execution_count": 40,
   "metadata": {},
   "outputs": [],
   "source": [
    "x_train, x_test, y_train, y_test = train_test_split(x_data, y_data, test_size=0.2, shuffle=True, random_state=777)"
   ]
  },
  {
   "cell_type": "code",
   "execution_count": 41,
   "metadata": {},
   "outputs": [],
   "source": [
    "x_train, x_val, y_train, y_val = train_test_split(x_train, y_train, test_size=0.25, shuffle=True, random_state=777)"
   ]
  },
  {
   "cell_type": "code",
   "execution_count": 43,
   "metadata": {},
   "outputs": [
    {
     "name": "stdout",
     "output_type": "stream",
     "text": [
      "all datasets: 20, train: 12, validataion: 4, test: 4\n"
     ]
    }
   ],
   "source": [
    "print(f\"all datasets: {len(x_data)}, train: {len(x_train)}, validataion: {len(x_val)}, test: {len(x_test)}\")"
   ]
  },
  {
   "cell_type": "code",
   "execution_count": null,
   "metadata": {},
   "outputs": [],
   "source": []
  }
 ],
 "metadata": {
  "kernelspec": {
   "display_name": "isaac-sim",
   "language": "python",
   "name": "python3"
  },
  "language_info": {
   "codemirror_mode": {
    "name": "ipython",
    "version": 3
   },
   "file_extension": ".py",
   "mimetype": "text/x-python",
   "name": "python",
   "nbconvert_exporter": "python",
   "pygments_lexer": "ipython3",
   "version": "3.7.16"
  },
  "orig_nbformat": 4
 },
 "nbformat": 4,
 "nbformat_minor": 2
}
