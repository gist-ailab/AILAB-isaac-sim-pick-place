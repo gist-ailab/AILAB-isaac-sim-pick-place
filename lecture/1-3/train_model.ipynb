{
 "cells": [
  {
   "cell_type": "markdown",
   "metadata": {},
   "source": [
    "<span style=\"font-size:150%\">라이브러리</span>"
   ]
  },
  {
   "cell_type": "code",
   "execution_count": 1,
   "metadata": {},
   "outputs": [],
   "source": [
    "import os\n",
    "import torch\n",
    "import torch.nn as nn\n",
    "import torch.optim as optim\n",
    "import torchvision.transforms as transforms\n",
    "import torchvision.models as models\n",
    "from torchvision import datasets\n",
    "from torch.utils.data import DataLoader"
   ]
  },
  {
   "cell_type": "markdown",
   "metadata": {},
   "source": [
    "<span style=\"font-size:150%\">경로 및 파라미터</span>"
   ]
  },
  {
   "cell_type": "code",
   "execution_count": 2,
   "metadata": {},
   "outputs": [],
   "source": [
    "data_path = './data/cifar10'\n",
    "save_path = './parameters/'\n",
    "epochs = 10\n",
    "batch_size = 64\n",
    "learning_rate = 0.001\n",
    "\n",
    "device = 'cuda' if torch.cuda.is_available() else 'cpu'"
   ]
  },
  {
   "cell_type": "markdown",
   "metadata": {},
   "source": [
    "<span style=\"font-size:150%\">어그멘테이션</span>"
   ]
  },
  {
   "cell_type": "code",
   "execution_count": 3,
   "metadata": {},
   "outputs": [],
   "source": [
    "train_transform = transforms.Compose([\n",
    "    transforms.Resize(32),\n",
    "    transforms.ToTensor(),\n",
    "    transforms.RandomHorizontalFlip(),\n",
    "    transforms.RandomRotation(30),\n",
    "    transforms.Normalize((0.5,0.5,0.5),(0.5,0.5,0.5))]\n",
    ")\n",
    "\n",
    "test_transform = transforms.Compose([\n",
    "    transforms.Resize(32),\n",
    "    transforms.ToTensor(),\n",
    "    transforms.Normalize((0.5,0.5,0.5),(0.5,0.5,0.5))]\n",
    ")"
   ]
  },
  {
   "cell_type": "markdown",
   "metadata": {},
   "source": [
    "<span style=\"font-size:150%\">데이터셋</span>"
   ]
  },
  {
   "cell_type": "code",
   "execution_count": 4,
   "metadata": {},
   "outputs": [],
   "source": [
    "import ssl\n",
    "ssl._create_default_https_context = ssl._create_unverified_context\n",
    "\n",
    "train_data = datasets.CIFAR10(\n",
    "    root=data_path,\n",
    "    train=True,\n",
    "    download=False,\n",
    "    transform=train_transform\n",
    ")\n",
    "test_data = datasets.CIFAR10(\n",
    "    root=data_path,\n",
    "    train=False,\n",
    "    download=False,\n",
    "    transform=test_transform\n",
    ")"
   ]
  },
  {
   "cell_type": "markdown",
   "metadata": {},
   "source": [
    "<span style=\"font-size:150%\">데이터로더</span>"
   ]
  },
  {
   "cell_type": "code",
   "execution_count": 5,
   "metadata": {},
   "outputs": [],
   "source": [
    "trainloader = DataLoader(train_data, batch_size=batch_size, shuffle=True)\n",
    "testloader = DataLoader(test_data, batch_size=batch_size, shuffle=False)"
   ]
  },
  {
   "cell_type": "markdown",
   "metadata": {},
   "source": [
    "<span style=\"font-size:150%\">모델 설계</span>"
   ]
  },
  {
   "cell_type": "code",
   "execution_count": 6,
   "metadata": {},
   "outputs": [],
   "source": [
    "class ConvNet(nn.Module):\n",
    "    def __init__(self, num_classes=10):\n",
    "        super(ConvNet, self).__init__()\n",
    "        self.layer1 = nn.Sequential(\n",
    "            nn.Conv2d(in_channels=3, out_channels=16, kernel_size=5, stride=1, padding=2),\n",
    "            nn.ReLU(),\n",
    "            nn.MaxPool2d(kernel_size=2, stride=2))\n",
    "\n",
    "        self.layer2 = nn.Sequential(\n",
    "            nn.Conv2d(in_channels=16, out_channels=32, kernel_size=5, stride=1, padding=2),\n",
    "            nn.ReLU(),\n",
    "            nn.MaxPool2d(kernel_size=2, stride=2))\n",
    "\n",
    "        self.fc = nn.Linear(32*8*8, num_classes)\n",
    "\n",
    "    def forward(self, x):\n",
    "        out = self.layer1(x)\n",
    "        out = self.layer2(out)\n",
    "        flatten = out.view(out.size(0), -1)\n",
    "        score = self.fc(flatten)\n",
    "        return score"
   ]
  },
  {
   "cell_type": "markdown",
   "metadata": {},
   "source": [
    "<span style=\"font-size:150%\">모델 및 손실함수, 옵티마이저 선언</span>"
   ]
  },
  {
   "cell_type": "code",
   "execution_count": 7,
   "metadata": {},
   "outputs": [],
   "source": [
    "mode = 1\n",
    "\n",
    "if mode==1:\n",
    "    model = ConvNet()\n",
    "elif mode==2:\n",
    "    model = models.resnet18(weights=None)\n",
    "    model.fc = nn.Linear(512, 10)\n",
    "elif mode==3:\n",
    "    model = models.resnet18(weights=None)\n",
    "    model_weight = torch.load(os.path.join(save_path, 'resnet18.pth'))\n",
    "    model.load_state_dict(model_weight)\n",
    "    model.fc = nn.Linear(512, 10)\n",
    "\n",
    "model = model.to(device)\n",
    "criterion = nn.CrossEntropyLoss()\n",
    "optimizer = optim.SGD(model.parameters(), lr=learning_rate)"
   ]
  },
  {
   "cell_type": "markdown",
   "metadata": {},
   "source": [
    "<span style=\"font-size:150%\">모델 학습 함수</span>"
   ]
  },
  {
   "cell_type": "code",
   "execution_count": 8,
   "metadata": {},
   "outputs": [],
   "source": [
    "def train(epoch):\n",
    "    print('\\nEpoch: %d'%epoch)\n",
    "    # model train mode로 전환\n",
    "    model.train()\n",
    "    running_loss = 0.0\n",
    "    running_acc = 0.0\n",
    "    total = 0\n",
    "    for (inputs, labels) in trainloader:\n",
    "        inputs, labels = inputs.to(device), labels.to(device)\n",
    "        optimizer.zero_grad()\n",
    "        outputs = model(inputs)\n",
    "        _, pred = torch.max(outputs, 1)\n",
    "        total += outputs.size(0)\n",
    "        running_acc += (pred == labels).sum().item()\n",
    "        loss = criterion(outputs, labels)\n",
    "        loss.backward()\n",
    "        optimizer.step()\n",
    "        running_loss += loss.item()\n",
    "    total_loss = running_loss / len(trainloader)\n",
    "    total_acc = 100 * running_acc / total\n",
    "    print(f'Train epoch : {epoch} loss : {total_loss} Acc : {total_acc}%')"
   ]
  },
  {
   "cell_type": "markdown",
   "metadata": {},
   "source": [
    "<span style=\"font-size:150%\">모델 평가 함수</span>"
   ]
  },
  {
   "cell_type": "code",
   "execution_count": 9,
   "metadata": {},
   "outputs": [],
   "source": [
    "def test(epoch):\n",
    "    print('\\nEpoch: %d'%epoch)\n",
    "    # model eval mode로 전환\n",
    "    model.eval()\n",
    "    running_loss = 0.0\n",
    "    running_acc = 0.0\n",
    "    total = 0\n",
    "    with torch.no_grad():\n",
    "        for (inputs, labels) in testloader:\n",
    "            inputs, labels = inputs.to(device), labels.to(device)\n",
    "            outputs = model(inputs)\n",
    "            _, pred = torch.max(outputs, 1)\n",
    "            total += outputs.size(0)\n",
    "            running_acc += (pred == labels).sum().item()\n",
    "            loss = criterion(outputs, labels)\n",
    "            running_loss += loss.item()\n",
    "        total_loss = running_loss / len(testloader)\n",
    "        total_acc = 100 * running_acc / total\n",
    "        print(f'Test epoch : {epoch} loss : {total_loss} Acc : {total_acc}%')"
   ]
  },
  {
   "cell_type": "markdown",
   "metadata": {},
   "source": [
    "<span style=\"font-size:150%\">모델 학습 및 평가</span>"
   ]
  },
  {
   "cell_type": "code",
   "execution_count": 10,
   "metadata": {},
   "outputs": [
    {
     "name": "stdout",
     "output_type": "stream",
     "text": [
      "\n",
      "Epoch: 0\n",
      "Train epoch : 0 loss : 2.2586585594260176 Acc : 18.808%\n",
      "\n",
      "Epoch: 0\n",
      "Test epoch : 0 loss : 2.1949669661795257 Acc : 24.46%\n",
      "\n",
      "Epoch: 1\n",
      "Train epoch : 1 loss : 2.117654431201613 Acc : 25.512%\n",
      "\n",
      "Epoch: 1\n",
      "Test epoch : 1 loss : 2.041436091350142 Acc : 27.71%\n",
      "\n",
      "Epoch: 2\n",
      "Train epoch : 2 loss : 2.006399275091908 Acc : 28.996%\n",
      "\n",
      "Epoch: 2\n",
      "Test epoch : 2 loss : 1.9603045761205589 Acc : 30.39%\n",
      "\n",
      "Epoch: 3\n",
      "Train epoch : 3 loss : 1.9398119914562195 Acc : 31.48%\n",
      "\n",
      "Epoch: 3\n",
      "Test epoch : 3 loss : 1.9129172905235534 Acc : 32.66%\n",
      "\n",
      "Epoch: 4\n",
      "Train epoch : 4 loss : 1.8975174274590925 Acc : 33.134%\n",
      "\n",
      "Epoch: 4\n",
      "Test epoch : 4 loss : 1.8783943136786199 Acc : 33.82%\n",
      "\n",
      "Epoch: 5\n",
      "Train epoch : 5 loss : 1.8647721580532202 Acc : 34.27%\n",
      "\n",
      "Epoch: 5\n",
      "Test epoch : 5 loss : 1.8509801018769574 Acc : 34.52%\n",
      "\n",
      "Epoch: 6\n",
      "Train epoch : 6 loss : 1.8389792937756804 Acc : 35.374%\n",
      "\n",
      "Epoch: 6\n",
      "Test epoch : 6 loss : 1.8202099891225243 Acc : 35.74%\n",
      "\n",
      "Epoch: 7\n",
      "Train epoch : 7 loss : 1.8114417890453582 Acc : 36.386%\n",
      "\n",
      "Epoch: 7\n",
      "Test epoch : 7 loss : 1.8040133502073348 Acc : 36.04%\n",
      "\n",
      "Epoch: 8\n",
      "Train epoch : 8 loss : 1.7834769046824912 Acc : 37.644%\n",
      "\n",
      "Epoch: 8\n",
      "Test epoch : 8 loss : 1.7622854087003477 Acc : 38.42%\n",
      "\n",
      "Epoch: 9\n",
      "Train epoch : 9 loss : 1.757368018712534 Acc : 38.542%\n",
      "\n",
      "Epoch: 9\n",
      "Test epoch : 9 loss : 1.7532515692862736 Acc : 37.78%\n"
     ]
    }
   ],
   "source": [
    "for epoch in range(epochs):\n",
    "    train(epoch)\n",
    "    test(epoch)\n",
    "    path = os.path.join(save_path, f'epoch_{epoch}.pth')\n",
    "    torch.save(model.state_dict(), path)"
   ]
  }
 ],
 "metadata": {
  "kernelspec": {
   "display_name": "nlp",
   "language": "python",
   "name": "python3"
  },
  "language_info": {
   "codemirror_mode": {
    "name": "ipython",
    "version": 3
   },
   "file_extension": ".py",
   "mimetype": "text/x-python",
   "name": "python",
   "nbconvert_exporter": "python",
   "pygments_lexer": "ipython3",
   "version": "3.8.17"
  },
  "orig_nbformat": 4
 },
 "nbformat": 4,
 "nbformat_minor": 2
}
