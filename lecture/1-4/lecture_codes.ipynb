{
 "cells": [
  {
   "cell_type": "markdown",
   "metadata": {},
   "source": [
    "Model"
   ]
  },
  {
   "cell_type": "code",
   "execution_count": 2,
   "metadata": {},
   "outputs": [],
   "source": [
    "from torchvision.models.detection import fasterrcnn_resnet50_fpn\n",
    "\n",
    "model = fasterrcnn_resnet50_fpn(num_classes=10)"
   ]
  },
  {
   "cell_type": "markdown",
   "metadata": {},
   "source": [
    "Backbone"
   ]
  },
  {
   "cell_type": "code",
   "execution_count": null,
   "metadata": {},
   "outputs": [],
   "source": [
    "print(model.backbone.body)"
   ]
  },
  {
   "cell_type": "code",
   "execution_count": null,
   "metadata": {},
   "outputs": [],
   "source": [
    "print(model.backbone.fpn)"
   ]
  },
  {
   "cell_type": "markdown",
   "metadata": {},
   "source": [
    "RPN"
   ]
  },
  {
   "cell_type": "code",
   "execution_count": null,
   "metadata": {},
   "outputs": [],
   "source": [
    "print(model.rpn)\n",
    "print(model.rpn.anchor_generator.sizes)\n",
    "print(model.rpn.anchor_generator.aspect_ratios)\n",
    "print(model.rpn.anchor_generator.cell_anchors)"
   ]
  },
  {
   "cell_type": "code",
   "execution_count": null,
   "metadata": {},
   "outputs": [],
   "source": [
    "import numpy as np\n",
    "import cv2\n",
    "import matplotlib.pyplot as plt\n",
    "\n",
    "background = np.ones([1000, 1000, 3])*255\n",
    "center = (500, 500)\n",
    "colormap = [(255,255,0),(255,0,255),(255,0,0),(0,255,0),(0,0,255),]\n",
    "anchors = model.rpn.anchor_generator.cell_anchors\n",
    "\n",
    "i=0\n",
    "for anchor in anchors:\n",
    "    color = colormap[i%7]\n",
    "    i+=1\n",
    "    for x1,y1,x2,y2 in anchor:\n",
    "        px1 = int(center[0] + x1)\n",
    "        py1 = int(center[1] + y1)\n",
    "        px2 = int(center[0] + x2)\n",
    "        py2 = int(center[1] + y2)\n",
    "        cv2.rectangle(background,(px1, py1),(px2, py2),color, 5)\n",
    "\n",
    "plt.axis(False)\n",
    "plt.imshow(background)"
   ]
  },
  {
   "cell_type": "code",
   "execution_count": null,
   "metadata": {},
   "outputs": [],
   "source": [
    "#torchvison.models.detection._utils.py 내 decode_single 함수 발췌\n",
    "\n",
    "import torch\n",
    "from torch import Tensor\n",
    "\n",
    "boxes = '앵커'\n",
    "rel_codes = 'RPN 출력'\n",
    "\n",
    "def decode_single(self, rel_codes: Tensor, boxes: Tensor) -> Tensor:\n",
    "        \"\"\"\n",
    "        From a set of original boxes and encoded relative box offsets,\n",
    "        get the decoded boxes.\n",
    "\n",
    "        Args:\n",
    "            rel_codes (Tensor): encoded boxes\n",
    "            boxes (Tensor): reference boxes.\n",
    "        \"\"\"\n",
    "\n",
    "        boxes = boxes.to(rel_codes.dtype)\n",
    "\n",
    "        widths = boxes[:, 2] - boxes[:, 0]\n",
    "        heights = boxes[:, 3] - boxes[:, 1]\n",
    "        ctr_x = boxes[:, 0] + 0.5 * widths\n",
    "        ctr_y = boxes[:, 1] + 0.5 * heights\n",
    "\n",
    "        wx, wy, ww, wh = self.weights\n",
    "        dx = rel_codes[:, 0::4] / wx\n",
    "        dy = rel_codes[:, 1::4] / wy\n",
    "        dw = rel_codes[:, 2::4] / ww\n",
    "        dh = rel_codes[:, 3::4] / wh\n",
    "\n",
    "        # Prevent sending too large values into torch.exp()\n",
    "        dw = torch.clamp(dw, max=self.bbox_xform_clip)\n",
    "        dh = torch.clamp(dh, max=self.bbox_xform_clip)\n",
    "\n",
    "        pred_ctr_x = dx * widths[:, None] + ctr_x[:, None]\n",
    "        pred_ctr_y = dy * heights[:, None] + ctr_y[:, None]\n",
    "        pred_w = torch.exp(dw) * widths[:, None]\n",
    "        pred_h = torch.exp(dh) * heights[:, None]\n",
    "\n",
    "        # Distance from center to box's corner.\n",
    "        c_to_c_h = torch.tensor(0.5, dtype=pred_ctr_y.dtype, device=pred_h.device) * pred_h\n",
    "        c_to_c_w = torch.tensor(0.5, dtype=pred_ctr_x.dtype, device=pred_w.device) * pred_w\n",
    "\n",
    "        pred_boxes1 = pred_ctr_x - c_to_c_w\n",
    "        pred_boxes2 = pred_ctr_y - c_to_c_h\n",
    "        pred_boxes3 = pred_ctr_x + c_to_c_w\n",
    "        pred_boxes4 = pred_ctr_y + c_to_c_h\n",
    "        pred_boxes = torch.stack((pred_boxes1, pred_boxes2, pred_boxes3, pred_boxes4), dim=2).flatten(1)\n",
    "        return pred_boxes"
   ]
  },
  {
   "cell_type": "markdown",
   "metadata": {},
   "source": [
    "RoI pooling"
   ]
  },
  {
   "cell_type": "code",
   "execution_count": null,
   "metadata": {},
   "outputs": [],
   "source": [
    "print(model.roi_heads)"
   ]
  },
  {
   "cell_type": "code",
   "execution_count": null,
   "metadata": {},
   "outputs": [],
   "source": [
    "import torch\n",
    "import torchvision\n",
    "\n",
    "model = torchvision.ops.MultiScaleRoIAlign(featmap_names=['0', '1'],\n",
    "                                           output_size=(7,7),\n",
    "                                           sampling_ratio=2)\n",
    "i = dict()\n",
    "i['0'] = torch.rand(1,256,64,64)\n",
    "i['1'] = torch.rand(1,256,32,32)\n",
    "boxes = torch.rand(3,4) * 256\n",
    "boxes[:,2:] += boxes[:,:2]\n",
    "image_sizes = [(512,512)]\n",
    "output = model(i, [boxes], image_sizes)\n",
    "\n",
    "print(boxes)\n",
    "print(output.shape)\n",
    "print(output.reshape([output.shape[0], -1]).shape)"
   ]
  },
  {
   "cell_type": "markdown",
   "metadata": {},
   "source": [
    "Loss Function"
   ]
  },
  {
   "cell_type": "code",
   "execution_count": 4,
   "metadata": {},
   "outputs": [
    {
     "name": "stdout",
     "output_type": "stream",
     "text": [
      "['loss_classifier', 'loss_box_reg', 'loss_objectness', 'loss_rpn_box_reg']\n"
     ]
    }
   ],
   "source": [
    "import os,sys\n",
    "sys.path.append(os.path.abspath('./../'))\n",
    "\n",
    "import torch\n",
    "from dataset import PennFudanDataset\n",
    "import coco.transforms as T\n",
    "\n",
    "\n",
    "data_path = './data/PennFudanPed'\n",
    "transform = T.Compose([T.PILToTensor(), \n",
    "                       T.ConvertImageDtype(torch.float)])\n",
    "trainset = PennFudanDataset(data_path,transform)\n",
    "sample, target = trainset[0]\n",
    "sample = sample.unsqueeze(0)\n",
    "target = [target]\n",
    "model = fasterrcnn_resnet50_fpn(num_classes=10)\n",
    "losses = model(sample, target)\n",
    "\n",
    "print(list(losses.keys()))"
   ]
  },
  {
   "cell_type": "markdown",
   "metadata": {},
   "source": [
    "Augmentation"
   ]
  },
  {
   "cell_type": "code",
   "execution_count": 5,
   "metadata": {},
   "outputs": [
    {
     "name": "stdout",
     "output_type": "stream",
     "text": [
      "tensor([[159., 181., 301., 430.],\n",
      "        [419., 170., 534., 485.]])\n",
      "tensor([[258., 181., 400., 430.],\n",
      "        [ 25., 170., 140., 485.]])\n"
     ]
    }
   ],
   "source": [
    "h_flip = T.RandomHorizontalFlip(p=1)\n",
    "\n",
    "data_path = './data/PennFudanPed'\n",
    "trainset = PennFudanDataset(data_path,transform)\n",
    "sample, target = trainset[0]\n",
    "print(target['boxes'])\n",
    "\n",
    "new_sample, new_target = h_flip(sample, target)\n",
    "print(new_target['boxes'])"
   ]
  },
  {
   "cell_type": "code",
   "execution_count": null,
   "metadata": {},
   "outputs": [],
   "source": [
    "import cv2\n",
    "import matplotlib.pyplot as plt\n",
    "\n",
    "%matplotlib inline \n",
    "\n",
    "fig, ax = plt.subplots(1, 1, figsize=(16, 8))\n",
    "\n",
    "data_path = './data/PennFudanPed'\n",
    "trainset = PennFudanDataset(data_path,transform.ToTensor())\n",
    "sample, target = trainset[0]\n",
    "print(target['boxes'])\n",
    "sample = sample.permute(1,2,0).numpy()\n",
    "sample = (sample*255).astype(int)\n",
    "\n",
    "vis_sample = sample.copy()\n",
    "\n",
    "for box in zip(target['boxes'].int()):\n",
    "    box = box[0]\n",
    "    cv2.rectangle(vis_sample,(box[0].item(), box[1].item()),(box[2].item(), box[3].item()),(0, 0, 255), 3)\n",
    "    \n",
    "ax.set_axis_off()\n",
    "ax.imshow(vis_sample)"
   ]
  },
  {
   "cell_type": "code",
   "execution_count": null,
   "metadata": {},
   "outputs": [],
   "source": [
    "fig, ax = plt.subplots(1, 1, figsize=(16, 8))\n",
    "\n",
    "h_flip = T.RandomHorizontalFlip(p=1)\n",
    "\n",
    "data_path = './data/PennFudanPed'\n",
    "trainset = PennFudanDataset(data_path,transform.ToTensor())\n",
    "sample, target = trainset[0]\n",
    "new_sample, new_target = h_flip(sample, target)\n",
    "\n",
    "print(new_target['boxes'])\n",
    "new_sample = new_sample.permute(1,2,0).numpy()\n",
    "new_sample = (new_sample*255).astype(int)\n",
    "\n",
    "vis_sample = new_sample.copy()\n",
    "\n",
    "for box in zip(new_target['boxes'].int()):\n",
    "    box = box[0]\n",
    "    cv2.rectangle(vis_sample,(box[0].item(), box[1].item()),(box[2].item(), box[3].item()),(0, 0, 255), 3)\n",
    "    \n",
    "ax.set_axis_off()\n",
    "ax.imshow(vis_sample)\n"
   ]
  }
 ],
 "metadata": {
  "kernelspec": {
   "display_name": "ailab_sc",
   "language": "python",
   "name": "python3"
  },
  "language_info": {
   "codemirror_mode": {
    "name": "ipython",
    "version": 3
   },
   "file_extension": ".py",
   "mimetype": "text/x-python",
   "name": "python",
   "nbconvert_exporter": "python",
   "pygments_lexer": "ipython3",
   "version": "3.8.17"
  },
  "orig_nbformat": 4
 },
 "nbformat": 4,
 "nbformat_minor": 2
}
