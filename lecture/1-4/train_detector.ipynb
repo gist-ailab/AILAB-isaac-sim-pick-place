{
 "cells": [
  {
   "cell_type": "code",
   "execution_count": 2,
   "metadata": {},
   "outputs": [],
   "source": [
    "import os,sys\n",
    "sys.path.append(os.path.abspath('./../'))\n",
    "\n",
    "import torch\n",
    "import torchvision\n",
    "from torchvision.models.detection import FasterRCNN\n",
    "from torchvision.models.detection.rpn import AnchorGenerator\n",
    "from torch.utils.data import DataLoader\n",
    "import coco.transforms as T\n",
    "from coco.engine import train_one_epoch\n",
    "from coco.utils import * \n",
    "from dataset import PennFudanDataset\n",
    "\n",
    "import matplotlib.pyplot as plt\n",
    "import cv2\n",
    "%matplotlib inline "
   ]
  },
  {
   "cell_type": "code",
   "execution_count": null,
   "metadata": {},
   "outputs": [],
   "source": [
    "data_path = './data/PennFudanPed'\n",
    "save_path = './parameters'\n",
    "num_epoch = 20\n",
    "\n",
    "device = torch.device('cuda') if torch.cuda.is_available() else torch.device('cpu')"
   ]
  },
  {
   "cell_type": "code",
   "execution_count": null,
   "metadata": {},
   "outputs": [],
   "source": [
    "def get_transform(train):\n",
    "    transforms = []\n",
    "    transforms.append(T.PILToTensor())\n",
    "    transforms.append(T.ConvertImageDtype(torch.float))\n",
    "    if train:\n",
    "        transforms.append(T.RandomHorizontalFlip(0.5))\n",
    "    return T.Compose(transforms)"
   ]
  },
  {
   "cell_type": "code",
   "execution_count": null,
   "metadata": {},
   "outputs": [],
   "source": [
    "trainset = PennFudanDataset(data_path, get_transform(train=True))\n",
    "testset = PennFudanDataset(data_path, get_transform(train=False))\n",
    "\n",
    "indices = [i for i in range(len(trainset))]\n",
    "dataset = torch.utils.data.Subset(trainset, indices[:-1])\n",
    "dataset_test = torch.utils.data.Subset(testset, indices[-1:])\n",
    "\n",
    "trainLoader = DataLoader(dataset, batch_size=1, shuffle=True, collate_fn=collate_fn)\n",
    "testLoader = DataLoader(dataset_test, batch_size=1, shuffle=False, collate_fn=collate_fn)"
   ]
  },
  {
   "cell_type": "code",
   "execution_count": null,
   "metadata": {},
   "outputs": [],
   "source": [
    "# mobilenet_weight = torch.load(os.path.join(save_path, 'mobilenet.pth'))\n",
    "backbone = torchvision.models.mobilenet_v2().features\n",
    "# backbone.load_state_dict(mobilenet_weight, strict=False)\n",
    "\n",
    "backbone.out_channels = 1280\n",
    "\n",
    "anchor_generator = AnchorGenerator(sizes=((32, 64, 128, 256, 512),),\n",
    "                                   aspect_ratios=((0.5, 1.0, 2.0),))\n",
    "# print(anchor_generator.cell_anchors)\n",
    "roi_pooler = torchvision.ops.MultiScaleRoIAlign(featmap_names=['0'],\n",
    "                                                output_size=7,\n",
    "                                                sampling_ratio=2)\n",
    "model = FasterRCNN(backbone,\n",
    "                   num_classes=2,\n",
    "                   rpn_anchor_generator=anchor_generator,\n",
    "                   box_roi_pool=roi_pooler)\n",
    "print(model.rpn)\n",
    "model = model.to(device)\n",
    "\n",
    "optimizer = torch.optim.SGD(model.parameters(), lr=0.01, weight_decay=0.0005)"
   ]
  },
  {
   "cell_type": "code",
   "execution_count": null,
   "metadata": {},
   "outputs": [],
   "source": [
    "for epoch in range(num_epoch):\n",
    "    train_one_epoch(model, optimizer, trainLoader, device, epoch, print_freq=10)\n",
    "torch.save(model.state_dict(), os.path.join(save_path, 'detector.pth'))"
   ]
  },
  {
   "cell_type": "code",
   "execution_count": null,
   "metadata": {},
   "outputs": [],
   "source": [
    "imgs, targets= next(iter(testLoader))\n",
    "img = imgs[0]\n",
    "sample = img.permute(1,2,0).cpu().numpy()\n",
    "target = targets[0]\n",
    "boxes = target['boxes'].cpu().numpy().astype(int)\n",
    "print(boxes)"
   ]
  },
  {
   "cell_type": "code",
   "execution_count": null,
   "metadata": {},
   "outputs": [],
   "source": [
    "model.eval()\n",
    "device = torch.device('cpu')\n",
    "model = model.to(device)\n",
    "outputs = model(img.unsqueeze(0))\n",
    "outputs = [{k: v.to(device) for k, v in t.items()} for t in outputs]"
   ]
  },
  {
   "cell_type": "code",
   "execution_count": null,
   "metadata": {},
   "outputs": [],
   "source": [
    "fig, ax = plt.subplots(1, 1, figsize=(16, 8))\n",
    "\n",
    "mean_score = torch.mean(outputs[0]['scores'])\n",
    "\n",
    "for box, score in zip(outputs[0]['boxes'].int(), outputs[0]['scores']):\n",
    "    print(box, score)\n",
    "    if score > 0.5:\n",
    "        cv2.rectangle(sample,(box[0].item(), box[1].item()),(box[2].item(), box[3].item()),(225, 0, 0), 3)\n",
    "        \n",
    "for box in zip(targets[0]['boxes'].int()):\n",
    "    box = box[0]\n",
    "    cv2.rectangle(sample,(box[0].item(), box[1].item()),(box[2].item(), box[3].item()),(0, 0, 255), 3)\n",
    "    \n",
    "ax.set_axis_off()\n",
    "ax.imshow(sample)\n"
   ]
  }
 ],
 "metadata": {
  "kernelspec": {
   "display_name": "nlp",
   "language": "python",
   "name": "python3"
  },
  "language_info": {
   "codemirror_mode": {
    "name": "ipython",
    "version": 3
   },
   "file_extension": ".py",
   "mimetype": "text/x-python",
   "name": "python",
   "nbconvert_exporter": "python",
   "pygments_lexer": "ipython3",
   "version": "3.8.17"
  },
  "orig_nbformat": 4
 },
 "nbformat": 4,
 "nbformat_minor": 2
}
